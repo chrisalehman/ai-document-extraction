{
  "cells": [
    {
      "cell_type": "markdown",
      "metadata": {
        "id": "vmx0Pl07H4gi"
      },
      "source": [
        "# Zero-Shot Baseline Inference"
      ]
    },
    {
      "cell_type": "markdown",
      "metadata": {},
      "source": [
        "**Introduction**:\n",
        "\n",
        "The purpose of this notebook is to load the Qwen-2.5-VL-7B-Instruct model from HuggingFace and perform zero-shot inference on the W2 dataset prepared from notebook 1.\n",
        "\n",
        "Steps: \n",
        "  - Bootstrap the environment\n",
        "  - Load the model\n",
        "  - Define the system and user prompts\n",
        "  - Execute baseline inference testing\n",
        "  - Save the results to the `reports/baseline` directory\n",
        "\n",
        "Follow the project README for more info on running this notebook. "
      ]
    },
    {
      "cell_type": "markdown",
      "metadata": {},
      "source": [
        "# Boostrap environment"
      ]
    },
    {
      "cell_type": "code",
      "execution_count": 1,
      "metadata": {
        "colab": {
          "base_uri": "https://localhost:8080/"
        },
        "id": "nSRdMcn7KAEd",
        "outputId": "1d50e12b-a082-4174-f791-76e35a464fc7"
      },
      "outputs": [
        {
          "name": "stdout",
          "output_type": "stream",
          "text": [
            "Loaded application properties from: /content/ai-image-to-text/.env.colab\n",
            "Working directory: /content/ai-image-to-text\n",
            "Drive already mounted at /content/drive; to attempt to forcibly remount, call drive.mount(\"/content/drive\", force_remount=True).\n"
          ]
        }
      ],
      "source": [
        "# Set working directory\n",
        "import os\n",
        "os.environ[\"APP_PROJECT_DIR\"] = \"/content/ai-image-to-text\"  # override with project directory\n",
        "os.chdir(os.environ[\"APP_PROJECT_DIR\"])\n",
        "\n",
        "# Install packages and bootstrap environment\n",
        "%pip install -q python-dotenv\n",
        "from src.utils.env_setup import setup_environment\n",
        "env = setup_environment()\n",
        "%pip install -q -r requirements-{env}.txt"
      ]
    },
    {
      "cell_type": "code",
      "execution_count": null,
      "metadata": {
        "id": "ECj-rQaIKAEe"
      },
      "outputs": [],
      "source": [
        "# Import libraries\n",
        "from transformers import Qwen2_5_VLForConditionalGeneration, AutoProcessor\n",
        "from huggingface_hub import login as hf_login\n",
        "import torch\n",
        "import pandas as pd\n",
        "import os\n",
        "from src.utils import data_loader\n",
        "from src.model import reporting\n",
        "from src.model.executor import Executor\n",
        "\n",
        "# Connect to huggingface\n",
        "hf_login(os.environ[\"APP_HF_TOKEN\"])\n",
        "\n",
        "# File and directory paths\n",
        "base_dir = os.environ[\"APP_PROJECT_DIR\"]\n",
        "datasets_dir = os.environ[\"APP_DATA_DIR\"]\n",
        "output_dir = os.environ[\"APP_OUTPUT_DIR\"]\n",
        "dataset_w2s_dir = f\"{datasets_dir}/w2s\"\n",
        "dataset_processed_dir = f\"{dataset_w2s_dir}/processed\"\n",
        "dataset_processed_final_dir = f\"{dataset_processed_dir}/final\"\n",
        "output_results_dir = f\"{output_dir}/baseline\"\n",
        "output_results_file = f\"{output_results_dir}/results.csv\"\n",
        "output_report_file = f\"{output_results_dir}/results_report.txt\"\n",
        "output_report_ADP1_file = f\"{output_results_dir}/results_report_ADP1.txt\"\n",
        "output_report_ADP2_file = f\"{output_results_dir}/results_report_ADP2.txt\"\n",
        "output_report_IRS1_file = f\"{output_results_dir}/results_report_IRS1.txt\"\n",
        "output_report_IRS2_file = f\"{output_results_dir}/results_report_IRS2.txt\"\n",
        "system_prompt_file_path = f\"{base_dir}/config/system_prompt.txt\"\n",
        "user_prompt_file_path = f\"{base_dir}/config/user_prompt.txt\"\n",
        "\n",
        "# general constants\n",
        "batch_size = 2\n",
        "max_new_tokens = 256"
      ]
    },
    {
      "cell_type": "markdown",
      "metadata": {
        "id": "khBbOoePIMGd"
      },
      "source": [
        "# Load the model"
      ]
    },
    {
      "cell_type": "code",
      "execution_count": null,
      "metadata": {
        "colab": {
          "base_uri": "https://localhost:8080/",
          "height": 194,
          "referenced_widgets": [
            "fa4eb961b7c34e41af87e33ecda4a7b0",
            "b7023e15350e44d0866102fa1103b38b",
            "4ddc4ec9d3ad49a882f4818ee1b5e816",
            "294bb81474d142c180ee7fc59b9c7450",
            "3ac6bd63f10e4e64a2d6c6538f538759",
            "6214e08464c34b6583d34167f4314cea",
            "adc753af164145eebaa3fc695ce9b620",
            "d4ad73c81dcc477ca808348c282c86fb",
            "97055ce4aba84f09bb79165e086d717b",
            "fcc00c34b8b94eac8a527d97af753a4d",
            "c0838f8d121e458899ade9719f29dab3"
          ]
        },
        "collapsed": true,
        "id": "sVILi_4VlxUK",
        "outputId": "7f9da0d0-0de4-4eea-e8da-6eb97796f58c"
      },
      "outputs": [
        {
          "name": "stderr",
          "output_type": "stream",
          "text": [
            "/usr/local/lib/python3.11/dist-packages/huggingface_hub/utils/_auth.py:94: UserWarning: \n",
            "The secret `HF_TOKEN` does not exist in your Colab secrets.\n",
            "To authenticate with the Hugging Face Hub, create a token in your settings tab (https://huggingface.co/settings/tokens), set it as secret in your Google Colab and restart your session.\n",
            "You will be able to reuse this secret in all of your notebooks.\n",
            "Please note that authentication is recommended but still optional to access public models or datasets.\n",
            "  warnings.warn(\n"
          ]
        },
        {
          "data": {
            "application/vnd.jupyter.widget-view+json": {
              "model_id": "fa4eb961b7c34e41af87e33ecda4a7b0",
              "version_major": 2,
              "version_minor": 0
            },
            "text/plain": [
              "Loading checkpoint shards:   0%|          | 0/5 [00:00<?, ?it/s]"
            ]
          },
          "metadata": {},
          "output_type": "display_data"
        },
        {
          "name": "stderr",
          "output_type": "stream",
          "text": [
            "Using a slow image processor as `use_fast` is unset and a slow processor was saved with this model. `use_fast=True` will be the default behavior in v4.48, even if the model was saved with a slow processor. This will result in minor differences in outputs. You'll still be able to use a slow processor with `use_fast=False`.\n"
          ]
        }
      ],
      "source": [
        "# Load model\n",
        "model_id = \"Qwen/Qwen2.5-VL-7B-Instruct\"\n",
        "model = Qwen2_5_VLForConditionalGeneration.from_pretrained(\n",
        "    model_id,\n",
        "    torch_dtype=torch.bfloat16,\n",
        "    device_map=\"auto\",\n",
        ").eval()  # Since this model will only be used for inference\n",
        "\n",
        "# Load processor\n",
        "min_pixels = 256 * 28 * 28\n",
        "max_pixels = 1280 * 28 * 28\n",
        "processor = AutoProcessor.from_pretrained(\n",
        "    model_id, min_pixels=min_pixels, max_pixels=max_pixels\n",
        ")"
      ]
    },
    {
      "cell_type": "markdown",
      "metadata": {
        "id": "N397NJ-VIZuU"
      },
      "source": [
        "# Define the prompts"
      ]
    },
    {
      "cell_type": "code",
      "execution_count": 4,
      "metadata": {
        "colab": {
          "base_uri": "https://localhost:8080/"
        },
        "id": "5sVX6IjaIY4u",
        "outputId": "836b0d6c-8fa3-4c38-dce7-03f26b67d737"
      },
      "outputs": [
        {
          "name": "stdout",
          "output_type": "stream",
          "text": [
            "You are an expert in processing W-2 forms. Your task is to extract specific information from the \n",
            "authoritative W-2 form in the provided image and present it in a structured JSON object. If the \n",
            "image contains multiple forms, the authoritative form is always located in the upper left portion \n",
            "of the image. Extract data only from this form, ignoring any duplicates. Use the standard box numbers \n",
            "to locate the fields: \n",
            "\n",
            "    - Employee Name (Box e),\n",
            "    - Employer Name (Box c), \n",
            "    - Wages and Tips (Box 1), \n",
            "    - Federal Income Tax Withheld (Box 2), \n",
            "    - Social Security Wages (Box 3), \n",
            "    - Medicare Wages and Tips (Box 5), \n",
            "    - State (Box 15)\n",
            "    - State Wages (Box 16)\n",
            "    - State Income Tax Withheld (Box 17)\n",
            "\n",
            "For state information, multiple states may be listed. Do not use information from Boxes c or e/f or \n",
            "any other areas of the image for state data. \n",
            "\n",
            "If a field is missing or blank, use an empty string as the value. Return only the completed JSON object \n",
            "without additional commentary.\n",
            "\n",
            "Extract the information from the provided W-2 form image and present it in the following JSON structure:\n",
            "{\n",
            "    \"Employee Name\": \"\",\n",
            "    \"Employer Name\": \"\",\n",
            "    \"Wages and Tips\": \"\",\n",
            "    \"Federal Income Tax Withheld\": \"\",\n",
            "    \"Social Security Wages\": \"\",\n",
            "    \"Medicare Wages and Tips\": \"\",\n",
            "    \"State 1\": \"\",\n",
            "    \"State 1 Wages and Tips\": \"\",\n",
            "    \"State 1 Income Tax Withheld\": \"\",\n",
            "    \"State 2\": \"\",\n",
            "    \"State 2 Wages and Tips\": \"\",\n",
            "    \"State 2 Income Tax Withheld\": \"\"\n",
            "}\n",
            "\n"
          ]
        }
      ],
      "source": [
        "# load system prompt\n",
        "system_prompt = data_loader.get_text(system_prompt_file_path)\n",
        "print(system_prompt)\n",
        "\n",
        "# load user prompt\n",
        "user_prompt = data_loader.get_text(user_prompt_file_path)\n",
        "print(f\"\\n{user_prompt}\")"
      ]
    },
    {
      "cell_type": "markdown",
      "metadata": {
        "id": "jGzjV34hIwJd"
      },
      "source": [
        "# Execute zero shot baseline testing"
      ]
    },
    {
      "cell_type": "code",
      "execution_count": 5,
      "metadata": {
        "colab": {
          "base_uri": "https://localhost:8080/"
        },
        "id": "8rHNWEYyyWLf",
        "outputId": "cab071d9-4e14-497b-9e0d-69fdd4548b06"
      },
      "outputs": [
        {
          "name": "stdout",
          "output_type": "stream",
          "text": [
            "Selected 100 ground truth examples for testing.\n",
            "Processing 100 examples...\n",
            "Processing batch (1 of 50); batch size = 2.\n",
            "Processing batch (2 of 50); batch size = 2.\n",
            "Processing batch (3 of 50); batch size = 2.\n",
            "Processing batch (4 of 50); batch size = 2.\n",
            "Processing batch (5 of 50); batch size = 2.\n",
            "Processing batch (6 of 50); batch size = 2.\n",
            "Processing batch (7 of 50); batch size = 2.\n",
            "Processing batch (8 of 50); batch size = 2.\n",
            "Processing batch (9 of 50); batch size = 2.\n",
            "Processing batch (10 of 50); batch size = 2.\n",
            "Processing batch (11 of 50); batch size = 2.\n",
            "Processing batch (12 of 50); batch size = 2.\n",
            "Processing batch (13 of 50); batch size = 2.\n",
            "Processing batch (14 of 50); batch size = 2.\n",
            "Processing batch (15 of 50); batch size = 2.\n",
            "Processing batch (16 of 50); batch size = 2.\n",
            "Processing batch (17 of 50); batch size = 2.\n",
            "Processing batch (18 of 50); batch size = 2.\n",
            "Processing batch (19 of 50); batch size = 2.\n",
            "Processing batch (20 of 50); batch size = 2.\n",
            "Processing batch (21 of 50); batch size = 2.\n",
            "Processing batch (22 of 50); batch size = 2.\n",
            "Processing batch (23 of 50); batch size = 2.\n",
            "Processing batch (24 of 50); batch size = 2.\n",
            "Processing batch (25 of 50); batch size = 2.\n",
            "Processing batch (26 of 50); batch size = 2.\n",
            "Processing batch (27 of 50); batch size = 2.\n",
            "Processing batch (28 of 50); batch size = 2.\n",
            "Processing batch (29 of 50); batch size = 2.\n",
            "Processing batch (30 of 50); batch size = 2.\n",
            "Processing batch (31 of 50); batch size = 2.\n",
            "Processing batch (32 of 50); batch size = 2.\n",
            "Processing batch (33 of 50); batch size = 2.\n",
            "Processing batch (34 of 50); batch size = 2.\n",
            "Processing batch (35 of 50); batch size = 2.\n",
            "Processing batch (36 of 50); batch size = 2.\n",
            "Processing batch (37 of 50); batch size = 2.\n",
            "Processing batch (38 of 50); batch size = 2.\n",
            "Processing batch (39 of 50); batch size = 2.\n",
            "Processing batch (40 of 50); batch size = 2.\n",
            "Processing batch (41 of 50); batch size = 2.\n",
            "Processing batch (42 of 50); batch size = 2.\n",
            "Processing batch (43 of 50); batch size = 2.\n",
            "Processing batch (44 of 50); batch size = 2.\n",
            "Processing batch (45 of 50); batch size = 2.\n",
            "Processing batch (46 of 50); batch size = 2.\n",
            "Processing batch (47 of 50); batch size = 2.\n",
            "Processing batch (48 of 50); batch size = 2.\n",
            "Processing batch (49 of 50); batch size = 2.\n",
            "Processing batch (50 of 50); batch size = 2.\n"
          ]
        }
      ],
      "source": [
        "# Load ground truth data\n",
        "metadata = data_loader.get_metadata(\n",
        "    f\"{dataset_processed_final_dir}/test/metadata.jsonl\",\n",
        "    f\"{dataset_processed_final_dir}/test\",\n",
        ")\n",
        "print(f\"Selected {len(metadata)} ground truth examples for testing.\")\n",
        "\n",
        "# Run test\n",
        "executor = Executor(\n",
        "    model=model,\n",
        "    processor=processor,\n",
        "    system_prompt=system_prompt,\n",
        "    user_prompt=user_prompt,\n",
        ")\n",
        "df = executor.execute_inference_test(metadata, batch_size, max_new_tokens)\n",
        "\n",
        "# Save comparison results to CSV\n",
        "os.makedirs(output_results_dir, exist_ok=True)\n",
        "df.to_csv(output_results_file, index=False)"
      ]
    },
    {
      "cell_type": "markdown",
      "metadata": {
        "id": "_JTGiHDCyWLf"
      },
      "source": [
        "Report the results. Written to report files and standard out.\n",
        "\n",
        "An additional report is generated for each form type, providing a detailed breakdown by type."
      ]
    },
    {
      "cell_type": "code",
      "execution_count": 6,
      "metadata": {
        "colab": {
          "base_uri": "https://localhost:8080/"
        },
        "id": "ZZ1hrrXSyWLf",
        "outputId": "20188476-17a3-40da-e4bd-cf4afc3746bd"
      },
      "outputs": [
        {
          "name": "stdout",
          "output_type": "stream",
          "text": [
            "**Overall Accuracy**: 87.23%\n",
            "\n",
            "**Field Summary**:\n",
            "| Field                       |   total_comparisons |   matches |   mismatches |   accuracy |   mismatch_percentage |\n",
            "|:----------------------------|--------------------:|----------:|-------------:|-----------:|----------------------:|\n",
            "| Employee Name               |                 100 |       100 |            0 |       1    |               0       |\n",
            "| Employer Name               |                 100 |        97 |            3 |       0.97 |               1.80723 |\n",
            "| Federal Income Tax Withheld |                 100 |        96 |            4 |       0.96 |               2.40964 |\n",
            "| Field Count Check           |                 100 |       100 |            0 |       1    |               0       |\n",
            "| Medicare Wages and Tips     |                 100 |        62 |           38 |       0.62 |              22.8916  |\n",
            "| Social Security Wages       |                 100 |        75 |           25 |       0.75 |              15.0602  |\n",
            "| State 1                     |                 100 |        91 |            9 |       0.91 |               5.42169 |\n",
            "| State 1 Income Tax Withheld |                 100 |        77 |           23 |       0.77 |              13.8554  |\n",
            "| State 1 Wages and Tips      |                 100 |        94 |            6 |       0.94 |               3.61446 |\n",
            "| State 2                     |                 100 |        86 |           14 |       0.86 |               8.43373 |\n",
            "| State 2 Income Tax Withheld |                 100 |        89 |           11 |       0.89 |               6.62651 |\n",
            "| State 2 Wages and Tips      |                 100 |        88 |           12 |       0.88 |               7.22892 |\n",
            "| Wages and Tips              |                 100 |        79 |           21 |       0.79 |              12.6506  |\n",
            "\n",
            "**Sample Summary**:\n",
            "|   Comparison ID |   total_fields |   matches |   mismatches |   accuracy |\n",
            "|----------------:|---------------:|----------:|-------------:|-----------:|\n",
            "|               0 |             13 |         9 |            4 |   0.692308 |\n",
            "|               1 |             13 |         8 |            5 |   0.615385 |\n",
            "|               2 |             13 |         7 |            6 |   0.538462 |\n",
            "|               3 |             13 |        10 |            3 |   0.769231 |\n",
            "|               4 |             13 |        10 |            3 |   0.769231 |\n",
            "|               5 |             13 |         5 |            8 |   0.384615 |\n",
            "|               6 |             13 |         8 |            5 |   0.615385 |\n",
            "|               7 |             13 |         6 |            7 |   0.461538 |\n",
            "|               8 |             13 |         8 |            5 |   0.615385 |\n",
            "|               9 |             13 |         8 |            5 |   0.615385 |\n",
            "|              10 |             13 |         9 |            4 |   0.692308 |\n",
            "|              11 |             13 |         5 |            8 |   0.384615 |\n",
            "|              12 |             13 |         6 |            7 |   0.461538 |\n",
            "|              13 |             13 |         8 |            5 |   0.615385 |\n",
            "|              14 |             13 |         5 |            8 |   0.384615 |\n",
            "|              15 |             13 |         2 |           11 |   0.153846 |\n",
            "|              16 |             13 |         8 |            5 |   0.615385 |\n",
            "|              17 |             13 |         5 |            8 |   0.384615 |\n",
            "|              18 |             13 |         8 |            5 |   0.615385 |\n",
            "|              19 |             13 |         6 |            7 |   0.461538 |\n",
            "|              20 |             13 |         8 |            5 |   0.615385 |\n",
            "|              21 |             13 |         4 |            9 |   0.307692 |\n",
            "|              22 |             13 |         7 |            6 |   0.538462 |\n",
            "|              23 |             13 |         6 |            7 |   0.461538 |\n",
            "|              24 |             13 |         6 |            7 |   0.461538 |\n",
            "|              25 |             13 |        13 |            0 |   1        |\n",
            "|              26 |             13 |        13 |            0 |   1        |\n",
            "|              27 |             13 |        13 |            0 |   1        |\n",
            "|              28 |             13 |        13 |            0 |   1        |\n",
            "|              29 |             13 |        13 |            0 |   1        |\n",
            "|              30 |             13 |        13 |            0 |   1        |\n",
            "|              31 |             13 |        13 |            0 |   1        |\n",
            "|              32 |             13 |        13 |            0 |   1        |\n",
            "|              33 |             13 |        13 |            0 |   1        |\n",
            "|              34 |             13 |        13 |            0 |   1        |\n",
            "|              35 |             13 |        13 |            0 |   1        |\n",
            "|              36 |             13 |        13 |            0 |   1        |\n",
            "|              37 |             13 |        13 |            0 |   1        |\n",
            "|              38 |             13 |        13 |            0 |   1        |\n",
            "|              39 |             13 |        13 |            0 |   1        |\n",
            "|              40 |             13 |        13 |            0 |   1        |\n",
            "|              41 |             13 |        13 |            0 |   1        |\n",
            "|              42 |             13 |        13 |            0 |   1        |\n",
            "|              43 |             13 |        13 |            0 |   1        |\n",
            "|              44 |             13 |        13 |            0 |   1        |\n",
            "|              45 |             13 |        13 |            0 |   1        |\n",
            "|              46 |             13 |        13 |            0 |   1        |\n",
            "|              47 |             13 |        13 |            0 |   1        |\n",
            "|              48 |             13 |        13 |            0 |   1        |\n",
            "|              49 |             13 |        13 |            0 |   1        |\n",
            "|              50 |             13 |        13 |            0 |   1        |\n",
            "|              51 |             13 |        13 |            0 |   1        |\n",
            "|              52 |             13 |        13 |            0 |   1        |\n",
            "|              53 |             13 |        13 |            0 |   1        |\n",
            "|              54 |             13 |        13 |            0 |   1        |\n",
            "|              55 |             13 |        13 |            0 |   1        |\n",
            "|              56 |             13 |        13 |            0 |   1        |\n",
            "|              57 |             13 |        13 |            0 |   1        |\n",
            "|              58 |             13 |        13 |            0 |   1        |\n",
            "|              59 |             13 |        13 |            0 |   1        |\n",
            "|              60 |             13 |        13 |            0 |   1        |\n",
            "|              61 |             13 |        13 |            0 |   1        |\n",
            "|              62 |             13 |        13 |            0 |   1        |\n",
            "|              63 |             13 |        13 |            0 |   1        |\n",
            "|              64 |             13 |        13 |            0 |   1        |\n",
            "|              65 |             13 |        13 |            0 |   1        |\n",
            "|              66 |             13 |        13 |            0 |   1        |\n",
            "|              67 |             13 |        13 |            0 |   1        |\n",
            "|              68 |             13 |        13 |            0 |   1        |\n",
            "|              69 |             13 |        13 |            0 |   1        |\n",
            "|              70 |             13 |        13 |            0 |   1        |\n",
            "|              71 |             13 |        13 |            0 |   1        |\n",
            "|              72 |             13 |        13 |            0 |   1        |\n",
            "|              73 |             13 |        13 |            0 |   1        |\n",
            "|              74 |             13 |        13 |            0 |   1        |\n",
            "|              75 |             13 |        12 |            1 |   0.923077 |\n",
            "|              76 |             13 |        13 |            0 |   1        |\n",
            "|              77 |             13 |        12 |            1 |   0.923077 |\n",
            "|              78 |             13 |        12 |            1 |   0.923077 |\n",
            "|              79 |             13 |        12 |            1 |   0.923077 |\n",
            "|              80 |             13 |        12 |            1 |   0.923077 |\n",
            "|              81 |             13 |        12 |            1 |   0.923077 |\n",
            "|              82 |             13 |        13 |            0 |   1        |\n",
            "|              83 |             13 |        12 |            1 |   0.923077 |\n",
            "|              84 |             13 |        13 |            0 |   1        |\n",
            "|              85 |             13 |        13 |            0 |   1        |\n",
            "|              86 |             13 |        13 |            0 |   1        |\n",
            "|              87 |             13 |        12 |            1 |   0.923077 |\n",
            "|              88 |             13 |        13 |            0 |   1        |\n",
            "|              89 |             13 |        13 |            0 |   1        |\n",
            "|              90 |             13 |        13 |            0 |   1        |\n",
            "|              91 |             13 |        13 |            0 |   1        |\n",
            "|              92 |             13 |        12 |            1 |   0.923077 |\n",
            "|              93 |             13 |        12 |            1 |   0.923077 |\n",
            "|              94 |             13 |        13 |            0 |   1        |\n",
            "|              95 |             13 |        12 |            1 |   0.923077 |\n",
            "|              96 |             13 |        12 |            1 |   0.923077 |\n",
            "|              97 |             13 |        12 |            1 |   0.923077 |\n",
            "|              98 |             13 |        13 |            0 |   1        |\n",
            "|              99 |             13 |        13 |            0 |   1        |\n",
            "\n",
            "**Form Type Summary**:\n",
            "| Form Type   |   total_comparisons |   matches |   mismatches |   accuracy |   mismatch_percentage |\n",
            "|:------------|--------------------:|----------:|-------------:|-----------:|----------------------:|\n",
            "| ADP1        |                 325 |       172 |          153 |   0.529231 |              92.1687  |\n",
            "| ADP2        |                 325 |       325 |            0 |   1        |               0       |\n",
            "| IRS1        |                 325 |       325 |            0 |   1        |               0       |\n",
            "| IRS2        |                 325 |       312 |           13 |   0.96     |               7.83133 |\n"
          ]
        }
      ],
      "source": [
        "# Read from persisted CSV\n",
        "df = pd.read_csv(output_results_file)\n",
        "\n",
        "# output main report - to file and std out\n",
        "reporting.output_results(df, output_report_file)\n",
        "\n",
        "# output report for each form type - to file only\n",
        "form_types = [\n",
        "    (\"ADP1\", output_report_ADP1_file),\n",
        "    (\"ADP2\", output_report_ADP2_file),\n",
        "    (\"IRS1\", output_report_IRS1_file),\n",
        "    (\"IRS2\", output_report_IRS2_file),\n",
        "]\n",
        "for form_type, report_file_path in form_types:\n",
        "    reporting.output_results_by_form_type(df, report_file_path, form_type)"
      ]
    },
    {
      "cell_type": "code",
      "execution_count": null,
      "metadata": {
        "id": "1SXxHJpKjziF"
      },
      "outputs": [],
      "source": []
    }
  ],
  "metadata": {
    "accelerator": "GPU",
    "colab": {
      "gpuType": "A100",
      "machine_shape": "hm",
      "provenance": []
    },
    "kernelspec": {
      "display_name": ".venv",
      "language": "python",
      "name": "python3"
    },
    "language_info": {
      "codemirror_mode": {
        "name": "ipython",
        "version": 3
      },
      "file_extension": ".py",
      "mimetype": "text/x-python",
      "name": "python",
      "nbconvert_exporter": "python",
      "pygments_lexer": "ipython3",
      "version": "3.12.9"
    },
    "widgets": {
      "application/vnd.jupyter.widget-state+json": {
        "294bb81474d142c180ee7fc59b9c7450": {
          "model_module": "@jupyter-widgets/controls",
          "model_module_version": "1.5.0",
          "model_name": "HTMLModel",
          "state": {
            "_dom_classes": [],
            "_model_module": "@jupyter-widgets/controls",
            "_model_module_version": "1.5.0",
            "_model_name": "HTMLModel",
            "_view_count": null,
            "_view_module": "@jupyter-widgets/controls",
            "_view_module_version": "1.5.0",
            "_view_name": "HTMLView",
            "description": "",
            "description_tooltip": null,
            "layout": "IPY_MODEL_fcc00c34b8b94eac8a527d97af753a4d",
            "placeholder": "​",
            "style": "IPY_MODEL_c0838f8d121e458899ade9719f29dab3",
            "value": " 5/5 [00:07&lt;00:00,  1.32s/it]"
          }
        },
        "3ac6bd63f10e4e64a2d6c6538f538759": {
          "model_module": "@jupyter-widgets/base",
          "model_module_version": "1.2.0",
          "model_name": "LayoutModel",
          "state": {
            "_model_module": "@jupyter-widgets/base",
            "_model_module_version": "1.2.0",
            "_model_name": "LayoutModel",
            "_view_count": null,
            "_view_module": "@jupyter-widgets/base",
            "_view_module_version": "1.2.0",
            "_view_name": "LayoutView",
            "align_content": null,
            "align_items": null,
            "align_self": null,
            "border": null,
            "bottom": null,
            "display": null,
            "flex": null,
            "flex_flow": null,
            "grid_area": null,
            "grid_auto_columns": null,
            "grid_auto_flow": null,
            "grid_auto_rows": null,
            "grid_column": null,
            "grid_gap": null,
            "grid_row": null,
            "grid_template_areas": null,
            "grid_template_columns": null,
            "grid_template_rows": null,
            "height": null,
            "justify_content": null,
            "justify_items": null,
            "left": null,
            "margin": null,
            "max_height": null,
            "max_width": null,
            "min_height": null,
            "min_width": null,
            "object_fit": null,
            "object_position": null,
            "order": null,
            "overflow": null,
            "overflow_x": null,
            "overflow_y": null,
            "padding": null,
            "right": null,
            "top": null,
            "visibility": null,
            "width": null
          }
        },
        "4ddc4ec9d3ad49a882f4818ee1b5e816": {
          "model_module": "@jupyter-widgets/controls",
          "model_module_version": "1.5.0",
          "model_name": "FloatProgressModel",
          "state": {
            "_dom_classes": [],
            "_model_module": "@jupyter-widgets/controls",
            "_model_module_version": "1.5.0",
            "_model_name": "FloatProgressModel",
            "_view_count": null,
            "_view_module": "@jupyter-widgets/controls",
            "_view_module_version": "1.5.0",
            "_view_name": "ProgressView",
            "bar_style": "success",
            "description": "",
            "description_tooltip": null,
            "layout": "IPY_MODEL_d4ad73c81dcc477ca808348c282c86fb",
            "max": 5,
            "min": 0,
            "orientation": "horizontal",
            "style": "IPY_MODEL_97055ce4aba84f09bb79165e086d717b",
            "value": 5
          }
        },
        "6214e08464c34b6583d34167f4314cea": {
          "model_module": "@jupyter-widgets/base",
          "model_module_version": "1.2.0",
          "model_name": "LayoutModel",
          "state": {
            "_model_module": "@jupyter-widgets/base",
            "_model_module_version": "1.2.0",
            "_model_name": "LayoutModel",
            "_view_count": null,
            "_view_module": "@jupyter-widgets/base",
            "_view_module_version": "1.2.0",
            "_view_name": "LayoutView",
            "align_content": null,
            "align_items": null,
            "align_self": null,
            "border": null,
            "bottom": null,
            "display": null,
            "flex": null,
            "flex_flow": null,
            "grid_area": null,
            "grid_auto_columns": null,
            "grid_auto_flow": null,
            "grid_auto_rows": null,
            "grid_column": null,
            "grid_gap": null,
            "grid_row": null,
            "grid_template_areas": null,
            "grid_template_columns": null,
            "grid_template_rows": null,
            "height": null,
            "justify_content": null,
            "justify_items": null,
            "left": null,
            "margin": null,
            "max_height": null,
            "max_width": null,
            "min_height": null,
            "min_width": null,
            "object_fit": null,
            "object_position": null,
            "order": null,
            "overflow": null,
            "overflow_x": null,
            "overflow_y": null,
            "padding": null,
            "right": null,
            "top": null,
            "visibility": null,
            "width": null
          }
        },
        "97055ce4aba84f09bb79165e086d717b": {
          "model_module": "@jupyter-widgets/controls",
          "model_module_version": "1.5.0",
          "model_name": "ProgressStyleModel",
          "state": {
            "_model_module": "@jupyter-widgets/controls",
            "_model_module_version": "1.5.0",
            "_model_name": "ProgressStyleModel",
            "_view_count": null,
            "_view_module": "@jupyter-widgets/base",
            "_view_module_version": "1.2.0",
            "_view_name": "StyleView",
            "bar_color": null,
            "description_width": ""
          }
        },
        "adc753af164145eebaa3fc695ce9b620": {
          "model_module": "@jupyter-widgets/controls",
          "model_module_version": "1.5.0",
          "model_name": "DescriptionStyleModel",
          "state": {
            "_model_module": "@jupyter-widgets/controls",
            "_model_module_version": "1.5.0",
            "_model_name": "DescriptionStyleModel",
            "_view_count": null,
            "_view_module": "@jupyter-widgets/base",
            "_view_module_version": "1.2.0",
            "_view_name": "StyleView",
            "description_width": ""
          }
        },
        "b7023e15350e44d0866102fa1103b38b": {
          "model_module": "@jupyter-widgets/controls",
          "model_module_version": "1.5.0",
          "model_name": "HTMLModel",
          "state": {
            "_dom_classes": [],
            "_model_module": "@jupyter-widgets/controls",
            "_model_module_version": "1.5.0",
            "_model_name": "HTMLModel",
            "_view_count": null,
            "_view_module": "@jupyter-widgets/controls",
            "_view_module_version": "1.5.0",
            "_view_name": "HTMLView",
            "description": "",
            "description_tooltip": null,
            "layout": "IPY_MODEL_6214e08464c34b6583d34167f4314cea",
            "placeholder": "​",
            "style": "IPY_MODEL_adc753af164145eebaa3fc695ce9b620",
            "value": "Loading checkpoint shards: 100%"
          }
        },
        "c0838f8d121e458899ade9719f29dab3": {
          "model_module": "@jupyter-widgets/controls",
          "model_module_version": "1.5.0",
          "model_name": "DescriptionStyleModel",
          "state": {
            "_model_module": "@jupyter-widgets/controls",
            "_model_module_version": "1.5.0",
            "_model_name": "DescriptionStyleModel",
            "_view_count": null,
            "_view_module": "@jupyter-widgets/base",
            "_view_module_version": "1.2.0",
            "_view_name": "StyleView",
            "description_width": ""
          }
        },
        "d4ad73c81dcc477ca808348c282c86fb": {
          "model_module": "@jupyter-widgets/base",
          "model_module_version": "1.2.0",
          "model_name": "LayoutModel",
          "state": {
            "_model_module": "@jupyter-widgets/base",
            "_model_module_version": "1.2.0",
            "_model_name": "LayoutModel",
            "_view_count": null,
            "_view_module": "@jupyter-widgets/base",
            "_view_module_version": "1.2.0",
            "_view_name": "LayoutView",
            "align_content": null,
            "align_items": null,
            "align_self": null,
            "border": null,
            "bottom": null,
            "display": null,
            "flex": null,
            "flex_flow": null,
            "grid_area": null,
            "grid_auto_columns": null,
            "grid_auto_flow": null,
            "grid_auto_rows": null,
            "grid_column": null,
            "grid_gap": null,
            "grid_row": null,
            "grid_template_areas": null,
            "grid_template_columns": null,
            "grid_template_rows": null,
            "height": null,
            "justify_content": null,
            "justify_items": null,
            "left": null,
            "margin": null,
            "max_height": null,
            "max_width": null,
            "min_height": null,
            "min_width": null,
            "object_fit": null,
            "object_position": null,
            "order": null,
            "overflow": null,
            "overflow_x": null,
            "overflow_y": null,
            "padding": null,
            "right": null,
            "top": null,
            "visibility": null,
            "width": null
          }
        },
        "fa4eb961b7c34e41af87e33ecda4a7b0": {
          "model_module": "@jupyter-widgets/controls",
          "model_module_version": "1.5.0",
          "model_name": "HBoxModel",
          "state": {
            "_dom_classes": [],
            "_model_module": "@jupyter-widgets/controls",
            "_model_module_version": "1.5.0",
            "_model_name": "HBoxModel",
            "_view_count": null,
            "_view_module": "@jupyter-widgets/controls",
            "_view_module_version": "1.5.0",
            "_view_name": "HBoxView",
            "box_style": "",
            "children": [
              "IPY_MODEL_b7023e15350e44d0866102fa1103b38b",
              "IPY_MODEL_4ddc4ec9d3ad49a882f4818ee1b5e816",
              "IPY_MODEL_294bb81474d142c180ee7fc59b9c7450"
            ],
            "layout": "IPY_MODEL_3ac6bd63f10e4e64a2d6c6538f538759"
          }
        },
        "fcc00c34b8b94eac8a527d97af753a4d": {
          "model_module": "@jupyter-widgets/base",
          "model_module_version": "1.2.0",
          "model_name": "LayoutModel",
          "state": {
            "_model_module": "@jupyter-widgets/base",
            "_model_module_version": "1.2.0",
            "_model_name": "LayoutModel",
            "_view_count": null,
            "_view_module": "@jupyter-widgets/base",
            "_view_module_version": "1.2.0",
            "_view_name": "LayoutView",
            "align_content": null,
            "align_items": null,
            "align_self": null,
            "border": null,
            "bottom": null,
            "display": null,
            "flex": null,
            "flex_flow": null,
            "grid_area": null,
            "grid_auto_columns": null,
            "grid_auto_flow": null,
            "grid_auto_rows": null,
            "grid_column": null,
            "grid_gap": null,
            "grid_row": null,
            "grid_template_areas": null,
            "grid_template_columns": null,
            "grid_template_rows": null,
            "height": null,
            "justify_content": null,
            "justify_items": null,
            "left": null,
            "margin": null,
            "max_height": null,
            "max_width": null,
            "min_height": null,
            "min_width": null,
            "object_fit": null,
            "object_position": null,
            "order": null,
            "overflow": null,
            "overflow_x": null,
            "overflow_y": null,
            "padding": null,
            "right": null,
            "top": null,
            "visibility": null,
            "width": null
          }
        }
      }
    }
  },
  "nbformat": 4,
  "nbformat_minor": 0
}
