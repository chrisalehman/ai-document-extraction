{
 "cells": [
  {
   "cell_type": "markdown",
   "metadata": {},
   "source": [
    "# LlamaExtract Evaluation"
   ]
  },
  {
   "cell_type": "markdown",
   "metadata": {},
   "source": [
    "**Introduction**:\n",
    "\n",
    "The purpose of this notebook is to evaluate the efficacy of the cloud-based LlamaExtract document extraction service on the same W2 dataset. The overall accuracy was 71%, significantly less than the 97% accuracy of the fine-tuned Qwen-2.5-VL model.\n",
    "\n",
    "Steps:\n",
    "  - Bootstrap the environment\n",
    "  - Load and prepare test data\n",
    "  - Create an extraction agent\n",
    "  - Queue extraction jobs\n",
    "  - Monitor job status and collect results\n",
    "  - Evaluate and compare extracted data with ground truth\n",
    "  - Save and report the results\n",
    "\n",
    "See the README for a detailed discussion of project setup steps, background, and measured performance. The full results are available in the `results` directory.\n",
    "\n",
    "\n"
   ]
  },
  {
   "cell_type": "markdown",
   "metadata": {},
   "source": [
    "# Bootstrap Environment"
   ]
  },
  {
   "cell_type": "code",
   "execution_count": null,
   "metadata": {},
   "outputs": [
    {
     "name": "stdout",
     "output_type": "stream",
     "text": [
      "Note: you may need to restart the kernel to use updated packages.\n",
      "Loaded application properties from: /Users/admin/workspace/ai-document-extraction/.env.local\n",
      "Working directory: /Users/admin/workspace/ai-document-extraction\n",
      "Note: you may need to restart the kernel to use updated packages.\n"
     ]
    }
   ],
   "source": [
    "# Set working directory\n",
    "import os\n",
    "os.environ[\"APP_PROJECT_DIR\"] = \"/content/ai-document-extraction\"  # override with project directory\n",
    "os.chdir(os.environ[\"APP_PROJECT_DIR\"])\n",
    "\n",
    "# Install packages and bootstrap environment\n",
    "%pip install -q python-dotenv\n",
    "from src.utils.env_setup import setup_environment\n",
    "env = setup_environment()\n",
    "%pip install -q -r requirements-{env}.txt"
   ]
  },
  {
   "cell_type": "code",
   "execution_count": 2,
   "metadata": {},
   "outputs": [],
   "source": [
    "from src.utils import data_loader\n",
    "from src.model import reporting\n",
    "from llama_cloud_services import LlamaExtract\n",
    "import os\n",
    "from pydantic import BaseModel, Field\n",
    "from src.utils import data_loader, w2_dataset\n",
    "from src.model import evaluator\n",
    "from collections import OrderedDict\n",
    "import pandas as pd\n",
    "\n",
    "\n",
    "# file and directory paths\n",
    "base_dir = os.environ[\"APP_PROJECT_DIR\"]\n",
    "datasets_dir = os.environ[\"APP_DATA_DIR\"]\n",
    "output_dir = os.environ[\"APP_OUTPUT_DIR\"]\n",
    "dataset_w2s_dir = f\"{datasets_dir}/w2s\"\n",
    "dataset_raw_dir = f\"{dataset_w2s_dir}/raw\"\n",
    "dataset_raw_pdfs_dir = f\"{dataset_raw_dir}/pdfs\"\n",
    "dataset_processed_dir = f\"{dataset_w2s_dir}/processed\"\n",
    "dataset_processed_final_dir = f\"{dataset_processed_dir}/final\"\n",
    "output_results_dir = f\"{output_dir}/llama_extract\"\n",
    "output_results_file = f\"{output_results_dir}/results.csv\"\n",
    "output_report_file = f\"{output_results_dir}/results_report.txt\"\n",
    "output_report_ADP1_file = f\"{output_results_dir}/results_report_ADP1.txt\"\n",
    "output_report_ADP2_file = f\"{output_results_dir}/results_report_ADP2.txt\"\n",
    "output_report_IRS1_file = f\"{output_results_dir}/results_report_IRS1.txt\"\n",
    "output_report_IRS2_file = f\"{output_results_dir}/results_report_IRS2.txt\""
   ]
  },
  {
   "cell_type": "markdown",
   "metadata": {},
   "source": [
    "Create helper functions for creating an extraction agent and processing LlamaExtract responses."
   ]
  },
  {
   "cell_type": "code",
   "execution_count": null,
   "metadata": {},
   "outputs": [],
   "source": [
    "def flatten_dict(dict):\n",
    "    flattened = {}\n",
    "    for i, key in enumerate(dict.keys()):\n",
    "        if key == \"states\":\n",
    "            states = dict[key]\n",
    "            for state in states:\n",
    "                for state_key in state.keys():\n",
    "                    skey = state_key.replace(\"state\", \"state_\" + str(i + 1))\n",
    "                    flattened[skey] = state[state_key]\n",
    "        else:\n",
    "            flattened[key] = dict[key]\n",
    "    return flattened\n",
    "\n",
    "\n",
    "def normalize_keys(dict):\n",
    "    # created ordered dict\n",
    "    d_tmp = {}\n",
    "    # standardize key format\n",
    "    for key in dict.keys():\n",
    "        new_key = key.lower().replace(\" \", \"_\")\n",
    "        d_tmp[new_key] = dict[key]\n",
    "    return OrderedDict(sorted(d_tmp.items()))\n",
    "\n",
    "\n",
    "def create_agent():\n",
    "\n",
    "    extractor = LlamaExtract(api_key=os.getenv(\"APP_LI_TOKEN\"))\n",
    "\n",
    "    class State(BaseModel):\n",
    "        state: str = Field(description=\"State (Box 15)\")\n",
    "        state_wages_and_tips: str = Field(description=\"State Wages and Tips (Box 16)\")\n",
    "        state_income_tax_withheld: str = Field(\n",
    "            description=\"State Income Tax Withheld (Box 17)\"\n",
    "        )\n",
    "\n",
    "    class W2(BaseModel):\n",
    "        employee_name: str = Field(description=\"Employee Name (Box e)\")\n",
    "        employer_name: str = Field(description=\"Employer Name (Box c)\")\n",
    "        wages_and_tips: str = Field(description=\"Wages and Tips (Box 1)\")\n",
    "        federal_income_tax_withheld: str = Field(\n",
    "            description=\"Federal Income Tax Withheld (Box 2)\"\n",
    "        )\n",
    "        social_security_wages: str = Field(description=\"Social Security Wages (Box 3)\")\n",
    "        medicare_wages_and_tips: str = Field(\n",
    "            description=\"Medicare Wages and Tips (Box 5)\"\n",
    "        )\n",
    "        states: list[State] = Field(description=\"One or more states\")\n",
    "\n",
    "    # Create extraction agent\n",
    "    agents = extractor.list_agents()\n",
    "    if agents:\n",
    "        for agent in agents:\n",
    "            extractor.delete_agent(agent.id)\n",
    "    agent = extractor.create_agent(name=\"w2-extractor\", data_schema=W2)\n",
    "    return agent"
   ]
  },
  {
   "cell_type": "markdown",
   "metadata": {},
   "source": [
    "# Load and prepare data"
   ]
  },
  {
   "cell_type": "code",
   "execution_count": 24,
   "metadata": {},
   "outputs": [],
   "source": [
    "# Load test data\n",
    "metadata = data_loader.get_metadata(\n",
    "    f\"{dataset_processed_final_dir}/test/metadata.jsonl\",\n",
    "    f\"{dataset_processed_final_dir}/test\",\n",
    ")\n",
    "\n",
    "# collect ground truths, pdf paths, and form types\n",
    "gt_results = []\n",
    "pdf_paths = []\n",
    "form_types = []\n",
    "for idx, data in enumerate(metadata):\n",
    "\n",
    "    image_path = data[0]\n",
    "    ground_truth_json = data[1]\n",
    "\n",
    "    # get ground truth\n",
    "    norm_gt = normalize_keys(ground_truth_json)\n",
    "\n",
    "    gt_results.append(norm_gt)\n",
    "\n",
    "    # get pdf path (we don't need images)\n",
    "    file_name = os.path.basename(image_path)\n",
    "    base, _ = os.path.splitext(file_name)\n",
    "    pdf_path = f\"{dataset_raw_pdfs_dir}/{base}.pdf\"\n",
    "    pdf_paths.append(pdf_path)\n",
    "\n",
    "    # get form type\n",
    "    form_type = w2_dataset.get_w2_form_type(file_name)\n",
    "    form_types.append(form_type)"
   ]
  },
  {
   "cell_type": "markdown",
   "metadata": {},
   "source": [
    "# Create agent and queue extraction jobs"
   ]
  },
  {
   "cell_type": "code",
   "execution_count": 5,
   "metadata": {},
   "outputs": [
    {
     "name": "stdout",
     "output_type": "stream",
     "text": [
      "No project_id provided, fetching default project.\n"
     ]
    },
    {
     "name": "stderr",
     "output_type": "stream",
     "text": [
      "Uploading files: 100%|██████████| 100/100 [00:10<00:00,  9.15it/s]\n",
      "Creating extraction jobs: 100%|██████████| 100/100 [00:10<00:00,  9.27it/s]\n"
     ]
    }
   ],
   "source": [
    "# create agent\n",
    "agent = create_agent()\n",
    "\n",
    "# queue jobs\n",
    "jobs = await agent.queue_extraction(pdf_paths)"
   ]
  },
  {
   "cell_type": "markdown",
   "metadata": {},
   "source": [
    "Since the jobs are asynchronous, run and re-run this cell until the entire batch is complete. "
   ]
  },
  {
   "cell_type": "code",
   "execution_count": 10,
   "metadata": {},
   "outputs": [
    {
     "name": "stdout",
     "output_type": "stream",
     "text": [
      "Jobs completed: 100, failed: 0, pending: 0\n"
     ]
    }
   ],
   "source": [
    "num_jobs = len(jobs)\n",
    "completed = 0\n",
    "failed = 0\n",
    "pending = num_jobs\n",
    "\n",
    "for job in jobs:\n",
    "\n",
    "    status = agent.get_extraction_job(job_id=job.id).status\n",
    "\n",
    "    if status == \"SUCCESS\":\n",
    "        completed += 1\n",
    "        pending -= 1\n",
    "    elif status == \"ERROR\":\n",
    "        failed += 1\n",
    "        pending -= 1\n",
    "\n",
    "print(f\"Jobs completed: {completed}, failed: {failed}, pending: {pending}\")"
   ]
  },
  {
   "cell_type": "markdown",
   "metadata": {},
   "source": [
    "Post-process the responses from LlamaExtract in order to match the format of the ground truth."
   ]
  },
  {
   "cell_type": "code",
   "execution_count": 19,
   "metadata": {},
   "outputs": [],
   "source": [
    "results = []\n",
    "for job in jobs:\n",
    "    extract_run = agent.get_extraction_run_for_job(job.id)\n",
    "    if extract_run.status == \"SUCCESS\":\n",
    "        results.append(extract_run.data)\n",
    "    else:\n",
    "        print(f\"Extraction status for job {job.id}: {extract_run.status}\")\n",
    "\n",
    "pred_results = []\n",
    "for result in results:\n",
    "    flattened = flatten_dict(result)\n",
    "    norm_result = normalize_keys(flattened)\n",
    "    pred_results.append(norm_result)"
   ]
  },
  {
   "cell_type": "markdown",
   "metadata": {},
   "source": [
    "Compare the predictions against the ground truth, and save to results.csv."
   ]
  },
  {
   "cell_type": "code",
   "execution_count": 25,
   "metadata": {},
   "outputs": [],
   "source": [
    "all_rows = []\n",
    "for i, (norm_gt, norm_pred) in enumerate(zip(gt_results, pred_results)):\n",
    "\n",
    "    # compare fields\n",
    "    rows = evaluator.compare_fields(norm_gt, norm_pred, i)\n",
    "\n",
    "    # add form type\n",
    "    for row in rows:\n",
    "        row.append(form_types[i])\n",
    "\n",
    "    # collect results\n",
    "    all_rows.extend(rows)\n",
    "\n",
    "# create dataframe\n",
    "df = pd.DataFrame(\n",
    "    all_rows,\n",
    "    columns=[\n",
    "        \"Comparison ID\",\n",
    "        \"Field\",\n",
    "        \"Predicted Value\",\n",
    "        \"Ground Truth Value\",\n",
    "        \"Match\",\n",
    "        \"Form Type\",\n",
    "    ],\n",
    ")\n",
    "\n",
    "# Save comparison results to CSV\n",
    "os.makedirs(output_results_dir, exist_ok=True)\n",
    "df.to_csv(output_results_file, index=False)"
   ]
  },
  {
   "cell_type": "markdown",
   "metadata": {},
   "source": [
    "Generate detailed reports of the results."
   ]
  },
  {
   "cell_type": "code",
   "execution_count": 26,
   "metadata": {},
   "outputs": [
    {
     "name": "stdout",
     "output_type": "stream",
     "text": [
      "**Overall Accuracy**: 70.75%\n",
      "\n",
      "**Field Summary**:\n",
      "| Field                       |   total_comparisons |   matches |   mismatches |   accuracy |   mismatch_percentage |\n",
      "|:----------------------------|--------------------:|----------:|-------------:|-----------:|----------------------:|\n",
      "| employee_name               |                 100 |        92 |            8 |       0.92 |              2.2792   |\n",
      "| employer_name               |                 100 |        83 |           17 |       0.83 |              4.8433   |\n",
      "| federal_income_tax_withheld |                 100 |        99 |            1 |       0.99 |              0.2849   |\n",
      "| medicare_wages_and_tips     |                 100 |        91 |            9 |       0.91 |              2.5641   |\n",
      "| social_security_wages       |                 100 |        92 |            8 |       0.92 |              2.2792   |\n",
      "| state_1                     |                 100 |        45 |           55 |       0.45 |             15.6695   |\n",
      "| state_1_income_tax_withheld |                 100 |        49 |           51 |       0.49 |             14.5299   |\n",
      "| state_1_wages_and_tips      |                 100 |        50 |           50 |       0.5  |             14.245    |\n",
      "| state_2                     |                 100 |        50 |           50 |       0.5  |             14.245    |\n",
      "| state_2_income_tax_withheld |                 100 |        50 |           50 |       0.5  |             14.245    |\n",
      "| state_2_wages_and_tips      |                 100 |        50 |           50 |       0.5  |             14.245    |\n",
      "| wages_and_tips              |                 100 |        98 |            2 |       0.98 |              0.569801 |\n",
      "\n",
      "**Sample Summary**:\n",
      "|   Comparison ID |   total_fields |   matches |   mismatches |   accuracy |\n",
      "|----------------:|---------------:|----------:|-------------:|-----------:|\n",
      "|               0 |             12 |        10 |            2 |   0.833333 |\n",
      "|               1 |             12 |        11 |            1 |   0.916667 |\n",
      "|               2 |             12 |        12 |            0 |   1        |\n",
      "|               3 |             12 |        12 |            0 |   1        |\n",
      "|               4 |             12 |        12 |            0 |   1        |\n",
      "|               5 |             12 |        10 |            2 |   0.833333 |\n",
      "|               6 |             12 |        12 |            0 |   1        |\n",
      "|               7 |             12 |        12 |            0 |   1        |\n",
      "|               8 |             12 |        12 |            0 |   1        |\n",
      "|               9 |             12 |        10 |            2 |   0.833333 |\n",
      "|              10 |             12 |        12 |            0 |   1        |\n",
      "|              11 |             12 |        12 |            0 |   1        |\n",
      "|              12 |             12 |        12 |            0 |   1        |\n",
      "|              13 |             12 |        12 |            0 |   1        |\n",
      "|              14 |             12 |        10 |            2 |   0.833333 |\n",
      "|              15 |             12 |        12 |            0 |   1        |\n",
      "|              16 |             12 |        12 |            0 |   1        |\n",
      "|              17 |             12 |        12 |            0 |   1        |\n",
      "|              18 |             12 |         9 |            3 |   0.75     |\n",
      "|              19 |             12 |        12 |            0 |   1        |\n",
      "|              20 |             12 |        11 |            1 |   0.916667 |\n",
      "|              21 |             12 |        12 |            0 |   1        |\n",
      "|              22 |             12 |        12 |            0 |   1        |\n",
      "|              23 |             12 |        12 |            0 |   1        |\n",
      "|              24 |             12 |        12 |            0 |   1        |\n",
      "|              25 |             12 |        12 |            0 |   1        |\n",
      "|              26 |             12 |        12 |            0 |   1        |\n",
      "|              27 |             12 |        12 |            0 |   1        |\n",
      "|              28 |             12 |        12 |            0 |   1        |\n",
      "|              29 |             12 |        12 |            0 |   1        |\n",
      "|              30 |             12 |        12 |            0 |   1        |\n",
      "|              31 |             12 |        12 |            0 |   1        |\n",
      "|              32 |             12 |        10 |            2 |   0.833333 |\n",
      "|              33 |             12 |        12 |            0 |   1        |\n",
      "|              34 |             12 |        11 |            1 |   0.916667 |\n",
      "|              35 |             12 |        12 |            0 |   1        |\n",
      "|              36 |             12 |        12 |            0 |   1        |\n",
      "|              37 |             12 |        12 |            0 |   1        |\n",
      "|              38 |             12 |        11 |            1 |   0.916667 |\n",
      "|              39 |             12 |        12 |            0 |   1        |\n",
      "|              40 |             12 |        12 |            0 |   1        |\n",
      "|              41 |             12 |         9 |            3 |   0.75     |\n",
      "|              42 |             12 |        12 |            0 |   1        |\n",
      "|              43 |             12 |        12 |            0 |   1        |\n",
      "|              44 |             12 |        12 |            0 |   1        |\n",
      "|              45 |             12 |        12 |            0 |   1        |\n",
      "|              46 |             12 |        11 |            1 |   0.916667 |\n",
      "|              47 |             12 |        12 |            0 |   1        |\n",
      "|              48 |             12 |        12 |            0 |   1        |\n",
      "|              49 |             12 |        12 |            0 |   1        |\n",
      "|              50 |             12 |         4 |            8 |   0.333333 |\n",
      "|              51 |             12 |         5 |            7 |   0.416667 |\n",
      "|              52 |             12 |         6 |            6 |   0.5      |\n",
      "|              53 |             12 |         6 |            6 |   0.5      |\n",
      "|              54 |             12 |         4 |            8 |   0.333333 |\n",
      "|              55 |             12 |         6 |            6 |   0.5      |\n",
      "|              56 |             12 |         6 |            6 |   0.5      |\n",
      "|              57 |             12 |         6 |            6 |   0.5      |\n",
      "|              58 |             12 |         6 |            6 |   0.5      |\n",
      "|              59 |             12 |         6 |            6 |   0.5      |\n",
      "|              60 |             12 |         6 |            6 |   0.5      |\n",
      "|              61 |             12 |         6 |            6 |   0.5      |\n",
      "|              62 |             12 |         6 |            6 |   0.5      |\n",
      "|              63 |             12 |         6 |            6 |   0.5      |\n",
      "|              64 |             12 |         6 |            6 |   0.5      |\n",
      "|              65 |             12 |         5 |            7 |   0.416667 |\n",
      "|              66 |             12 |         5 |            7 |   0.416667 |\n",
      "|              67 |             12 |         6 |            6 |   0.5      |\n",
      "|              68 |             12 |         6 |            6 |   0.5      |\n",
      "|              69 |             12 |         4 |            8 |   0.333333 |\n",
      "|              70 |             12 |         6 |            6 |   0.5      |\n",
      "|              71 |             12 |         6 |            6 |   0.5      |\n",
      "|              72 |             12 |         6 |            6 |   0.5      |\n",
      "|              73 |             12 |         6 |            6 |   0.5      |\n",
      "|              74 |             12 |         6 |            6 |   0.5      |\n",
      "|              75 |             12 |         5 |            7 |   0.416667 |\n",
      "|              76 |             12 |         6 |            6 |   0.5      |\n",
      "|              77 |             12 |         5 |            7 |   0.416667 |\n",
      "|              78 |             12 |         6 |            6 |   0.5      |\n",
      "|              79 |             12 |         5 |            7 |   0.416667 |\n",
      "|              80 |             12 |         5 |            7 |   0.416667 |\n",
      "|              81 |             12 |         5 |            7 |   0.416667 |\n",
      "|              82 |             12 |         6 |            6 |   0.5      |\n",
      "|              83 |             12 |         5 |            7 |   0.416667 |\n",
      "|              84 |             12 |         6 |            6 |   0.5      |\n",
      "|              85 |             12 |         5 |            7 |   0.416667 |\n",
      "|              86 |             12 |         5 |            7 |   0.416667 |\n",
      "|              87 |             12 |         5 |            7 |   0.416667 |\n",
      "|              88 |             12 |         4 |            8 |   0.333333 |\n",
      "|              89 |             12 |         6 |            6 |   0.5      |\n",
      "|              90 |             12 |         4 |            8 |   0.333333 |\n",
      "|              91 |             12 |         5 |            7 |   0.416667 |\n",
      "|              92 |             12 |         6 |            6 |   0.5      |\n",
      "|              93 |             12 |         5 |            7 |   0.416667 |\n",
      "|              94 |             12 |         6 |            6 |   0.5      |\n",
      "|              95 |             12 |         5 |            7 |   0.416667 |\n",
      "|              96 |             12 |         5 |            7 |   0.416667 |\n",
      "|              97 |             12 |         6 |            6 |   0.5      |\n",
      "|              98 |             12 |         5 |            7 |   0.416667 |\n",
      "|              99 |             12 |         3 |            9 |   0.25     |\n",
      "\n",
      "**Form Type Summary**:\n",
      "| Form Type   |   total_comparisons |   matches |   mismatches |   accuracy |   mismatch_percentage |\n",
      "|:------------|--------------------:|----------:|-------------:|-----------:|----------------------:|\n",
      "| ADP1        |                 300 |       287 |           13 |   0.956667 |                3.7037 |\n",
      "| ADP2        |                 300 |       292 |            8 |   0.973333 |                2.2792 |\n",
      "| IRS1        |                 300 |       141 |          159 |   0.47     |               45.2991 |\n",
      "| IRS2        |                 300 |       129 |          171 |   0.43     |               48.7179 |\n"
     ]
    }
   ],
   "source": [
    "# Read from persisted CSV\n",
    "df = pd.read_csv(output_results_file)\n",
    "\n",
    "# output main report - to file and std out\n",
    "reporting.output_results(df, output_report_file)\n",
    "\n",
    "# output report for each form type - to file only\n",
    "form_types = [\n",
    "    (\"ADP1\", output_report_ADP1_file),\n",
    "    (\"ADP2\", output_report_ADP2_file),\n",
    "    (\"IRS1\", output_report_IRS1_file),\n",
    "    (\"IRS2\", output_report_IRS2_file),\n",
    "]\n",
    "for form_type, report_file_path in form_types:\n",
    "    reporting.output_results_by_form_type(df, report_file_path, form_type)"
   ]
  },
  {
   "cell_type": "code",
   "execution_count": null,
   "metadata": {},
   "outputs": [],
   "source": []
  }
 ],
 "metadata": {
  "kernelspec": {
   "display_name": ".venv",
   "language": "python",
   "name": "python3"
  },
  "language_info": {
   "codemirror_mode": {
    "name": "ipython",
    "version": 3
   },
   "file_extension": ".py",
   "mimetype": "text/x-python",
   "name": "python",
   "nbconvert_exporter": "python",
   "pygments_lexer": "ipython3",
   "version": "3.12.9"
  }
 },
 "nbformat": 4,
 "nbformat_minor": 2
}
